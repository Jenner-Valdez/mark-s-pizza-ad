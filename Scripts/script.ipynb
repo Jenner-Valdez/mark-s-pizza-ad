{
 "cells": [
  {
   "cell_type": "markdown",
   "metadata": {},
   "source": [
    "### Mark's Pizza Ad"
   ]
  },
  {
   "cell_type": "code",
   "execution_count": 119,
   "metadata": {},
   "outputs": [],
   "source": [
    "# import all libraries\n",
    "import pandas as pd\n",
    "import numpy as np\n",
    "import matplotlib.pyplot as plt\n",
    "import seaborn as sns\n",
    "import os"
   ]
  },
  {
   "cell_type": "code",
   "execution_count": 120,
   "metadata": {},
   "outputs": [],
   "source": [
    "#Assign them to a variable for easy access if neccesary\n",
    "order_details = 'C:/Users/valde/Desktop/Tripleten/Marks_pizza_ad/marks-pizza-ad/Datasets/order_details.csv'\n",
    "orders = 'C:/Users/valde/Desktop/Tripleten/Marks_pizza_ad/marks-pizza-ad/Datasets/orders.csv'\n",
    "pizza_types = 'C:/Users/valde/Desktop/Tripleten/Marks_pizza_ad/marks-pizza-ad/Datasets/pizza_types.csv'\n",
    "pizzas = 'C:/Users/valde/Desktop/Tripleten/Marks_pizza_ad/marks-pizza-ad/Datasets/pizzas.csv'"
   ]
  },
  {
   "cell_type": "code",
   "execution_count": 121,
   "metadata": {},
   "outputs": [],
   "source": [
    "#Read all the libraries\n",
    "order_details = pd.read_csv(order_details, encoding='ISO-8859-1')\n",
    "orders = pd.read_csv(orders, encoding='ISO-8859-1')\n",
    "pizza_types = pd.read_csv(pizza_types, encoding='ISO-8859-1')\n",
    "pizzas = pd.read_csv(pizzas, encoding='ISO-8859-1')"
   ]
  },
  {
   "cell_type": "code",
   "execution_count": 122,
   "metadata": {},
   "outputs": [
    {
     "name": "stdout",
     "output_type": "stream",
     "text": [
      "   order_details_id  order_id       pizza_id  quantity\n",
      "0                 1         1     hawaiian_m         1\n",
      "1                 2         2  classic_dlx_m         1\n",
      "2                 3         2  five_cheese_l         1\n",
      "3                 4         2    ital_supr_l         1\n",
      "4                 5         2     mexicana_m         1\n"
     ]
    }
   ],
   "source": [
    "print(order_details.head())"
   ]
  },
  {
   "cell_type": "markdown",
   "metadata": {},
   "source": [
    "#The following code will clean the \"orders_details\""
   ]
  },
  {
   "cell_type": "code",
   "execution_count": 123,
   "metadata": {},
   "outputs": [
    {
     "name": "stdout",
     "output_type": "stream",
     "text": [
      "<class 'pandas.core.frame.DataFrame'>\n",
      "RangeIndex: 48620 entries, 0 to 48619\n",
      "Data columns (total 4 columns):\n",
      " #   Column            Non-Null Count  Dtype \n",
      "---  ------            --------------  ----- \n",
      " 0   order_details_id  48620 non-null  int64 \n",
      " 1   order_id          48620 non-null  int64 \n",
      " 2   pizza_id          48620 non-null  object\n",
      " 3   quantity          48620 non-null  int64 \n",
      "dtypes: int64(3), object(1)\n",
      "memory usage: 1.5+ MB\n"
     ]
    }
   ],
   "source": [
    "#Print the information for the dataset\n",
    "order_details.info()"
   ]
  },
  {
   "cell_type": "markdown",
   "metadata": {},
   "source": [
    "It seems like pizzas that belong together have the same ID."
   ]
  },
  {
   "cell_type": "code",
   "execution_count": 124,
   "metadata": {},
   "outputs": [
    {
     "data": {
      "text/plain": [
       "order_details_id    0\n",
       "order_id            0\n",
       "pizza_id            0\n",
       "quantity            0\n",
       "dtype: int64"
      ]
     },
     "execution_count": 124,
     "metadata": {},
     "output_type": "execute_result"
    }
   ],
   "source": [
    "#Check for missing values just in case they arent N/A\n",
    "order_details.isnull().sum()"
   ]
  },
  {
   "cell_type": "code",
   "execution_count": 125,
   "metadata": {},
   "outputs": [
    {
     "name": "stdout",
     "output_type": "stream",
     "text": [
      "No duplicates\n"
     ]
    }
   ],
   "source": [
    "#Check for duplicates inside the order details and inside order_details_id\n",
    "duplicates_order_details = order_details['order_details_id'].duplicated()\n",
    "if duplicates_order_details.any():\n",
    "    print('There are duplicates')\n",
    "else:\n",
    "    print('No duplicates')"
   ]
  },
  {
   "cell_type": "markdown",
   "metadata": {},
   "source": [
    "No duplicates found inside the order_details_id which is the only one that logically could contain a duplicate"
   ]
  },
  {
   "cell_type": "code",
   "execution_count": 126,
   "metadata": {},
   "outputs": [
    {
     "data": {
      "text/html": [
       "<div>\n",
       "<style scoped>\n",
       "    .dataframe tbody tr th:only-of-type {\n",
       "        vertical-align: middle;\n",
       "    }\n",
       "\n",
       "    .dataframe tbody tr th {\n",
       "        vertical-align: top;\n",
       "    }\n",
       "\n",
       "    .dataframe thead th {\n",
       "        text-align: right;\n",
       "    }\n",
       "</style>\n",
       "<table border=\"1\" class=\"dataframe\">\n",
       "  <thead>\n",
       "    <tr style=\"text-align: right;\">\n",
       "      <th></th>\n",
       "      <th>order_details_id</th>\n",
       "      <th>order_id</th>\n",
       "      <th>pizza_id</th>\n",
       "      <th>quantity</th>\n",
       "    </tr>\n",
       "  </thead>\n",
       "  <tbody>\n",
       "    <tr>\n",
       "      <th>14444</th>\n",
       "      <td>14445</td>\n",
       "      <td>6320</td>\n",
       "      <td>ckn_pesto_l</td>\n",
       "      <td>1</td>\n",
       "    </tr>\n",
       "    <tr>\n",
       "      <th>40265</th>\n",
       "      <td>40266</td>\n",
       "      <td>17753</td>\n",
       "      <td>bbq_ckn_l</td>\n",
       "      <td>1</td>\n",
       "    </tr>\n",
       "    <tr>\n",
       "      <th>15919</th>\n",
       "      <td>15920</td>\n",
       "      <td>6999</td>\n",
       "      <td>mexicana_l</td>\n",
       "      <td>1</td>\n",
       "    </tr>\n",
       "    <tr>\n",
       "      <th>39283</th>\n",
       "      <td>39284</td>\n",
       "      <td>17303</td>\n",
       "      <td>five_cheese_l</td>\n",
       "      <td>1</td>\n",
       "    </tr>\n",
       "    <tr>\n",
       "      <th>28189</th>\n",
       "      <td>28190</td>\n",
       "      <td>12419</td>\n",
       "      <td>five_cheese_l</td>\n",
       "      <td>1</td>\n",
       "    </tr>\n",
       "  </tbody>\n",
       "</table>\n",
       "</div>"
      ],
      "text/plain": [
       "       order_details_id  order_id       pizza_id  quantity\n",
       "14444             14445      6320    ckn_pesto_l         1\n",
       "40265             40266     17753      bbq_ckn_l         1\n",
       "15919             15920      6999     mexicana_l         1\n",
       "39283             39284     17303  five_cheese_l         1\n",
       "28189             28190     12419  five_cheese_l         1"
      ]
     },
     "metadata": {},
     "output_type": "display_data"
    }
   ],
   "source": [
    "#Check for values to be correct and properly display\n",
    "display(order_details.sample(5))"
   ]
  },
  {
   "cell_type": "markdown",
   "metadata": {},
   "source": [
    "The following code will clean the \"orders\" dataset"
   ]
  },
  {
   "cell_type": "code",
   "execution_count": 127,
   "metadata": {},
   "outputs": [
    {
     "name": "stdout",
     "output_type": "stream",
     "text": [
      "<class 'pandas.core.frame.DataFrame'>\n",
      "RangeIndex: 21350 entries, 0 to 21349\n",
      "Data columns (total 3 columns):\n",
      " #   Column    Non-Null Count  Dtype \n",
      "---  ------    --------------  ----- \n",
      " 0   order_id  21350 non-null  int64 \n",
      " 1   date      21350 non-null  object\n",
      " 2   time      21350 non-null  object\n",
      "dtypes: int64(1), object(2)\n",
      "memory usage: 500.5+ KB\n"
     ]
    }
   ],
   "source": [
    "#Print the information for the dataset\n",
    "orders.info()"
   ]
  },
  {
   "cell_type": "code",
   "execution_count": 128,
   "metadata": {},
   "outputs": [
    {
     "data": {
      "text/plain": [
       "order_id    0\n",
       "date        0\n",
       "time        0\n",
       "dtype: int64"
      ]
     },
     "execution_count": 128,
     "metadata": {},
     "output_type": "execute_result"
    }
   ],
   "source": [
    "#Check for missing values just in case they arent N/A\n",
    "orders.isnull().sum()"
   ]
  },
  {
   "cell_type": "code",
   "execution_count": 129,
   "metadata": {},
   "outputs": [
    {
     "name": "stdout",
     "output_type": "stream",
     "text": [
      "No duplicates\n"
     ]
    }
   ],
   "source": [
    "#Check for duplicates inside the order details and inside order_details_id\n",
    "duplicates_orders = orders['order_id'].duplicated()\n",
    "if duplicates_orders.any():\n",
    "    print('There are duplicates')\n",
    "else:\n",
    "    print('No duplicates')"
   ]
  },
  {
   "cell_type": "markdown",
   "metadata": {},
   "source": [
    "No duplicates found inside the order_id which is the only one that logically could contain a duplicate"
   ]
  },
  {
   "cell_type": "code",
   "execution_count": 130,
   "metadata": {},
   "outputs": [
    {
     "data": {
      "text/html": [
       "<div>\n",
       "<style scoped>\n",
       "    .dataframe tbody tr th:only-of-type {\n",
       "        vertical-align: middle;\n",
       "    }\n",
       "\n",
       "    .dataframe tbody tr th {\n",
       "        vertical-align: top;\n",
       "    }\n",
       "\n",
       "    .dataframe thead th {\n",
       "        text-align: right;\n",
       "    }\n",
       "</style>\n",
       "<table border=\"1\" class=\"dataframe\">\n",
       "  <thead>\n",
       "    <tr style=\"text-align: right;\">\n",
       "      <th></th>\n",
       "      <th>order_id</th>\n",
       "      <th>date</th>\n",
       "      <th>time</th>\n",
       "    </tr>\n",
       "  </thead>\n",
       "  <tbody>\n",
       "    <tr>\n",
       "      <th>6443</th>\n",
       "      <td>6444</td>\n",
       "      <td>2015-04-18</td>\n",
       "      <td>20:50:24</td>\n",
       "    </tr>\n",
       "    <tr>\n",
       "      <th>19971</th>\n",
       "      <td>19972</td>\n",
       "      <td>2015-12-05</td>\n",
       "      <td>20:13:44</td>\n",
       "    </tr>\n",
       "    <tr>\n",
       "      <th>839</th>\n",
       "      <td>840</td>\n",
       "      <td>2015-01-14</td>\n",
       "      <td>20:46:12</td>\n",
       "    </tr>\n",
       "    <tr>\n",
       "      <th>8579</th>\n",
       "      <td>8580</td>\n",
       "      <td>2015-05-24</td>\n",
       "      <td>12:46:57</td>\n",
       "    </tr>\n",
       "    <tr>\n",
       "      <th>1077</th>\n",
       "      <td>1078</td>\n",
       "      <td>2015-01-18</td>\n",
       "      <td>20:20:42</td>\n",
       "    </tr>\n",
       "  </tbody>\n",
       "</table>\n",
       "</div>"
      ],
      "text/plain": [
       "       order_id        date      time\n",
       "6443       6444  2015-04-18  20:50:24\n",
       "19971     19972  2015-12-05  20:13:44\n",
       "839         840  2015-01-14  20:46:12\n",
       "8579       8580  2015-05-24  12:46:57\n",
       "1077       1078  2015-01-18  20:20:42"
      ]
     },
     "metadata": {},
     "output_type": "display_data"
    }
   ],
   "source": [
    "#Check for values to be correct and properly display\n",
    "display(orders.sample(5))"
   ]
  },
  {
   "cell_type": "markdown",
   "metadata": {},
   "source": [
    "The following code will clean the \"pizzas\" dataset"
   ]
  },
  {
   "cell_type": "code",
   "execution_count": 131,
   "metadata": {},
   "outputs": [
    {
     "name": "stdout",
     "output_type": "stream",
     "text": [
      "<class 'pandas.core.frame.DataFrame'>\n",
      "RangeIndex: 96 entries, 0 to 95\n",
      "Data columns (total 4 columns):\n",
      " #   Column         Non-Null Count  Dtype  \n",
      "---  ------         --------------  -----  \n",
      " 0   pizza_id       96 non-null     object \n",
      " 1   pizza_type_id  96 non-null     object \n",
      " 2   size           96 non-null     object \n",
      " 3   price          96 non-null     float64\n",
      "dtypes: float64(1), object(3)\n",
      "memory usage: 3.1+ KB\n"
     ]
    }
   ],
   "source": [
    "#Print the information for the dataset\n",
    "pizzas.info()"
   ]
  },
  {
   "cell_type": "code",
   "execution_count": 132,
   "metadata": {},
   "outputs": [
    {
     "data": {
      "text/plain": [
       "pizza_id         0\n",
       "pizza_type_id    0\n",
       "size             0\n",
       "price            0\n",
       "dtype: int64"
      ]
     },
     "execution_count": 132,
     "metadata": {},
     "output_type": "execute_result"
    }
   ],
   "source": [
    "#Check for missing values just in case they arent N/A\n",
    "pizzas.isnull().sum()"
   ]
  },
  {
   "cell_type": "code",
   "execution_count": 133,
   "metadata": {},
   "outputs": [
    {
     "name": "stdout",
     "output_type": "stream",
     "text": [
      "No duplicates\n"
     ]
    }
   ],
   "source": [
    "#Check for duplicates inside the order details and inside order_details_id\n",
    "duplicates_pizza = pizzas['pizza_id'].duplicated()\n",
    "if duplicates_pizza .any():\n",
    "    print('There are duplicates')\n",
    "else:\n",
    "    print('No duplicates')"
   ]
  },
  {
   "cell_type": "markdown",
   "metadata": {},
   "source": [
    "No duplicates found inside the pizza_id which is the only one that logically could contain a duplicate"
   ]
  },
  {
   "cell_type": "code",
   "execution_count": 134,
   "metadata": {},
   "outputs": [
    {
     "data": {
      "text/html": [
       "<div>\n",
       "<style scoped>\n",
       "    .dataframe tbody tr th:only-of-type {\n",
       "        vertical-align: middle;\n",
       "    }\n",
       "\n",
       "    .dataframe tbody tr th {\n",
       "        vertical-align: top;\n",
       "    }\n",
       "\n",
       "    .dataframe thead th {\n",
       "        text-align: right;\n",
       "    }\n",
       "</style>\n",
       "<table border=\"1\" class=\"dataframe\">\n",
       "  <thead>\n",
       "    <tr style=\"text-align: right;\">\n",
       "      <th></th>\n",
       "      <th>pizza_id</th>\n",
       "      <th>pizza_type_id</th>\n",
       "      <th>size</th>\n",
       "      <th>price</th>\n",
       "    </tr>\n",
       "  </thead>\n",
       "  <tbody>\n",
       "    <tr>\n",
       "      <th>82</th>\n",
       "      <td>mediterraneo_m</td>\n",
       "      <td>mediterraneo</td>\n",
       "      <td>M</td>\n",
       "      <td>16.00</td>\n",
       "    </tr>\n",
       "    <tr>\n",
       "      <th>72</th>\n",
       "      <td>four_cheese_s</td>\n",
       "      <td>four_cheese</td>\n",
       "      <td>S</td>\n",
       "      <td>11.75</td>\n",
       "    </tr>\n",
       "    <tr>\n",
       "      <th>75</th>\n",
       "      <td>green_garden_s</td>\n",
       "      <td>green_garden</td>\n",
       "      <td>S</td>\n",
       "      <td>12.00</td>\n",
       "    </tr>\n",
       "    <tr>\n",
       "      <th>17</th>\n",
       "      <td>thai_ckn_l</td>\n",
       "      <td>thai_ckn</td>\n",
       "      <td>L</td>\n",
       "      <td>20.75</td>\n",
       "    </tr>\n",
       "    <tr>\n",
       "      <th>9</th>\n",
       "      <td>ckn_pesto_s</td>\n",
       "      <td>ckn_pesto</td>\n",
       "      <td>S</td>\n",
       "      <td>12.75</td>\n",
       "    </tr>\n",
       "  </tbody>\n",
       "</table>\n",
       "</div>"
      ],
      "text/plain": [
       "          pizza_id pizza_type_id size  price\n",
       "82  mediterraneo_m  mediterraneo    M  16.00\n",
       "72   four_cheese_s   four_cheese    S  11.75\n",
       "75  green_garden_s  green_garden    S  12.00\n",
       "17      thai_ckn_l      thai_ckn    L  20.75\n",
       "9      ckn_pesto_s     ckn_pesto    S  12.75"
      ]
     },
     "metadata": {},
     "output_type": "display_data"
    }
   ],
   "source": [
    "#Check for values to be correct and properly display\n",
    "display(pizzas.sample(5))"
   ]
  },
  {
   "cell_type": "markdown",
   "metadata": {},
   "source": [
    "The following code will clean the \"pizza_types\" dataset"
   ]
  },
  {
   "cell_type": "code",
   "execution_count": 135,
   "metadata": {},
   "outputs": [
    {
     "name": "stdout",
     "output_type": "stream",
     "text": [
      "<class 'pandas.core.frame.DataFrame'>\n",
      "RangeIndex: 32 entries, 0 to 31\n",
      "Data columns (total 4 columns):\n",
      " #   Column         Non-Null Count  Dtype \n",
      "---  ------         --------------  ----- \n",
      " 0   pizza_type_id  32 non-null     object\n",
      " 1   name           32 non-null     object\n",
      " 2   category       32 non-null     object\n",
      " 3   ingredients    32 non-null     object\n",
      "dtypes: object(4)\n",
      "memory usage: 1.1+ KB\n"
     ]
    }
   ],
   "source": [
    "#Print the information for the dataset\n",
    "pizza_types.info()"
   ]
  },
  {
   "cell_type": "code",
   "execution_count": 136,
   "metadata": {},
   "outputs": [
    {
     "data": {
      "text/plain": [
       "pizza_type_id    0\n",
       "name             0\n",
       "category         0\n",
       "ingredients      0\n",
       "dtype: int64"
      ]
     },
     "execution_count": 136,
     "metadata": {},
     "output_type": "execute_result"
    }
   ],
   "source": [
    "#Check for missing values just in case they arent N/A\n",
    "pizza_types.isnull().sum()"
   ]
  },
  {
   "cell_type": "code",
   "execution_count": 137,
   "metadata": {},
   "outputs": [
    {
     "name": "stdout",
     "output_type": "stream",
     "text": [
      "No duplicates\n"
     ]
    }
   ],
   "source": [
    "#Check for duplicates inside the order details and inside order_details_id\n",
    "duplicates_pizza_type = pizza_types['pizza_type_id'].duplicated()\n",
    "if duplicates_pizza_type .any():\n",
    "    print('There are duplicates')\n",
    "else:\n",
    "    print('No duplicates')"
   ]
  },
  {
   "cell_type": "markdown",
   "metadata": {},
   "source": [
    "No duplicates found inside the \"pizza_type_id\" which is the only one that logically could contain a duplicate"
   ]
  },
  {
   "cell_type": "code",
   "execution_count": 138,
   "metadata": {},
   "outputs": [
    {
     "data": {
      "text/html": [
       "<div>\n",
       "<style scoped>\n",
       "    .dataframe tbody tr th:only-of-type {\n",
       "        vertical-align: middle;\n",
       "    }\n",
       "\n",
       "    .dataframe tbody tr th {\n",
       "        vertical-align: top;\n",
       "    }\n",
       "\n",
       "    .dataframe thead th {\n",
       "        text-align: right;\n",
       "    }\n",
       "</style>\n",
       "<table border=\"1\" class=\"dataframe\">\n",
       "  <thead>\n",
       "    <tr style=\"text-align: right;\">\n",
       "      <th></th>\n",
       "      <th>pizza_type_id</th>\n",
       "      <th>name</th>\n",
       "      <th>category</th>\n",
       "      <th>ingredients</th>\n",
       "    </tr>\n",
       "  </thead>\n",
       "  <tbody>\n",
       "    <tr>\n",
       "      <th>5</th>\n",
       "      <td>thai_ckn</td>\n",
       "      <td>The Thai Chicken Pizza</td>\n",
       "      <td>Chicken</td>\n",
       "      <td>Chicken, Pineapple, Tomatoes, Red Peppers, Tha...</td>\n",
       "    </tr>\n",
       "    <tr>\n",
       "      <th>12</th>\n",
       "      <td>pepperoni</td>\n",
       "      <td>The Pepperoni Pizza</td>\n",
       "      <td>Classic</td>\n",
       "      <td>Mozzarella Cheese, Pepperoni</td>\n",
       "    </tr>\n",
       "    <tr>\n",
       "      <th>29</th>\n",
       "      <td>spin_pesto</td>\n",
       "      <td>The Spinach Pesto Pizza</td>\n",
       "      <td>Veggie</td>\n",
       "      <td>Spinach, Artichokes, Tomatoes, Sun-dried Tomat...</td>\n",
       "    </tr>\n",
       "    <tr>\n",
       "      <th>24</th>\n",
       "      <td>four_cheese</td>\n",
       "      <td>The Four Cheese Pizza</td>\n",
       "      <td>Veggie</td>\n",
       "      <td>Ricotta Cheese, Gorgonzola Piccante Cheese, Mo...</td>\n",
       "    </tr>\n",
       "    <tr>\n",
       "      <th>20</th>\n",
       "      <td>soppressata</td>\n",
       "      <td>The Soppressata Pizza</td>\n",
       "      <td>Supreme</td>\n",
       "      <td>Soppressata Salami, Fontina Cheese, Mozzarella...</td>\n",
       "    </tr>\n",
       "  </tbody>\n",
       "</table>\n",
       "</div>"
      ],
      "text/plain": [
       "   pizza_type_id                     name category  \\\n",
       "5       thai_ckn   The Thai Chicken Pizza  Chicken   \n",
       "12     pepperoni      The Pepperoni Pizza  Classic   \n",
       "29    spin_pesto  The Spinach Pesto Pizza   Veggie   \n",
       "24   four_cheese    The Four Cheese Pizza   Veggie   \n",
       "20   soppressata    The Soppressata Pizza  Supreme   \n",
       "\n",
       "                                          ingredients  \n",
       "5   Chicken, Pineapple, Tomatoes, Red Peppers, Tha...  \n",
       "12                       Mozzarella Cheese, Pepperoni  \n",
       "29  Spinach, Artichokes, Tomatoes, Sun-dried Tomat...  \n",
       "24  Ricotta Cheese, Gorgonzola Piccante Cheese, Mo...  \n",
       "20  Soppressata Salami, Fontina Cheese, Mozzarella...  "
      ]
     },
     "metadata": {},
     "output_type": "display_data"
    }
   ],
   "source": [
    "#Check for values to be correct and properly display\n",
    "display(pizza_types.sample(5))"
   ]
  },
  {
   "cell_type": "code",
   "execution_count": 139,
   "metadata": {},
   "outputs": [],
   "source": [
    "#Find the best selling pizzas and see the toppings that sale the most from those\n",
    "pizza_sales = pd.merge(order_details, pizzas, on='pizza_id')\n",
    "pizza_sales = pd.merge(pizza_sales, pizza_types, on='pizza_type_id')"
   ]
  },
  {
   "cell_type": "code",
   "execution_count": 140,
   "metadata": {},
   "outputs": [],
   "source": [
    "#Group by pizza name and aggregate total number of pizzas sold\n",
    "pizza_sales_summary = pizza_sales.groupby('name').agg({'quantity':'sum'}).reset_index()"
   ]
  },
  {
   "cell_type": "code",
   "execution_count": 141,
   "metadata": {},
   "outputs": [],
   "source": [
    "#Sort by the number of pizzas sold in descending order\n",
    "top_5_pizzas = pizza_sales_summary.sort_values(by='quantity', ascending=False).head(5)"
   ]
  },
  {
   "cell_type": "code",
   "execution_count": 142,
   "metadata": {},
   "outputs": [
    {
     "data": {
      "text/html": [
       "<div>\n",
       "<style scoped>\n",
       "    .dataframe tbody tr th:only-of-type {\n",
       "        vertical-align: middle;\n",
       "    }\n",
       "\n",
       "    .dataframe tbody tr th {\n",
       "        vertical-align: top;\n",
       "    }\n",
       "\n",
       "    .dataframe thead th {\n",
       "        text-align: right;\n",
       "    }\n",
       "</style>\n",
       "<table border=\"1\" class=\"dataframe\">\n",
       "  <thead>\n",
       "    <tr style=\"text-align: right;\">\n",
       "      <th></th>\n",
       "      <th>name</th>\n",
       "      <th>quantity</th>\n",
       "    </tr>\n",
       "  </thead>\n",
       "  <tbody>\n",
       "    <tr>\n",
       "      <th>7</th>\n",
       "      <td>The Classic Deluxe Pizza</td>\n",
       "      <td>2453</td>\n",
       "    </tr>\n",
       "    <tr>\n",
       "      <th>0</th>\n",
       "      <td>The Barbecue Chicken Pizza</td>\n",
       "      <td>2432</td>\n",
       "    </tr>\n",
       "    <tr>\n",
       "      <th>12</th>\n",
       "      <td>The Hawaiian Pizza</td>\n",
       "      <td>2422</td>\n",
       "    </tr>\n",
       "    <tr>\n",
       "      <th>20</th>\n",
       "      <td>The Pepperoni Pizza</td>\n",
       "      <td>2418</td>\n",
       "    </tr>\n",
       "    <tr>\n",
       "      <th>30</th>\n",
       "      <td>The Thai Chicken Pizza</td>\n",
       "      <td>2371</td>\n",
       "    </tr>\n",
       "  </tbody>\n",
       "</table>\n",
       "</div>"
      ],
      "text/plain": [
       "                          name  quantity\n",
       "7     The Classic Deluxe Pizza      2453\n",
       "0   The Barbecue Chicken Pizza      2432\n",
       "12          The Hawaiian Pizza      2422\n",
       "20         The Pepperoni Pizza      2418\n",
       "30      The Thai Chicken Pizza      2371"
      ]
     },
     "metadata": {},
     "output_type": "display_data"
    }
   ],
   "source": [
    "#Display the top 5 pizzas\n",
    "display(top_5_pizzas)"
   ]
  },
  {
   "cell_type": "code",
   "execution_count": 143,
   "metadata": {},
   "outputs": [],
   "source": [
    "#Filter the pizza_types dataframe to get the ingredients for the top 5 pizzas\n",
    "top_5_with_ingredients = pizza_types[pizza_types['name'].isin(top_5_pizzas['name'])]"
   ]
  },
  {
   "cell_type": "code",
   "execution_count": 144,
   "metadata": {},
   "outputs": [
    {
     "name": "stdout",
     "output_type": "stream",
     "text": [
      "Pizza: The Barbecue Chicken Pizza\n",
      "Ingredients: Barbecued Chicken, Red Peppers, Green Peppers, Tomatoes, Red Onions, Barbecue Sauce\n",
      "\n",
      "Pizza: The Thai Chicken Pizza\n",
      "Ingredients: Chicken, Pineapple, Tomatoes, Red Peppers, Thai Sweet Chilli Sauce\n",
      "\n",
      "Pizza: The Classic Deluxe Pizza\n",
      "Ingredients: Pepperoni, Mushrooms, Red Onions, Red Peppers, Bacon\n",
      "\n",
      "Pizza: The Hawaiian Pizza\n",
      "Ingredients: Sliced Ham, Pineapple, Mozzarella Cheese\n",
      "\n",
      "Pizza: The Pepperoni Pizza\n",
      "Ingredients: Mozzarella Cheese, Pepperoni\n",
      "\n"
     ]
    }
   ],
   "source": [
    "#Print the name of the pizza and its ingredients\n",
    "for index, row in top_5_with_ingredients.iterrows():\n",
    "    print(f\"Pizza: {row['name']}\")\n",
    "    print(f\"Ingredients: {row['ingredients']}\\n\")"
   ]
  },
  {
   "cell_type": "markdown",
   "metadata": {},
   "source": [
    "Find the ingredients that take part of the pizzas the most\n"
   ]
  },
  {
   "cell_type": "code",
   "execution_count": 145,
   "metadata": {},
   "outputs": [],
   "source": [
    "#Merge the datasets to connect orders with pizza names and ingredients\n",
    "pizza_sales = pd.merge(order_details, pizzas, on='pizza_id')\n",
    "pizza_sales = pd.merge(pizza_sales, pizza_types, on='pizza_type_id')"
   ]
  },
  {
   "cell_type": "code",
   "execution_count": 146,
   "metadata": {},
   "outputs": [],
   "source": [
    "#Split the ingredients for each pizza type into individual ingredients\n",
    "pizza_sales['ingredients'] = pizza_sales['ingredients'].str.split(',')"
   ]
  },
  {
   "cell_type": "code",
   "execution_count": 147,
   "metadata": {},
   "outputs": [],
   "source": [
    "#Create a new dataframe to store ingredients-levels sales\n",
    "ingredient_sales = []"
   ]
  },
  {
   "cell_type": "code",
   "execution_count": 148,
   "metadata": {},
   "outputs": [],
   "source": [
    "#Iterate over each pizza order and break down the ingredients, attributing sales to each\n",
    "for index, row in pizza_sales.iterrows():\n",
    "    for ingredient in row['ingredients']:\n",
    "        ingredient = ingredient.strip()  # Remove any extra spaces\n",
    "        ingredient_sales.append({\n",
    "            'ingredient': ingredient,\n",
    "            'quantity': row['quantity']\n",
    "        })"
   ]
  },
  {
   "cell_type": "code",
   "execution_count": 149,
   "metadata": {},
   "outputs": [],
   "source": [
    "#Convert the list of ingredient sales to a DataFrame\n",
    "ingredient_sales_df = pd.DataFrame(ingredient_sales)"
   ]
  },
  {
   "cell_type": "code",
   "execution_count": 150,
   "metadata": {},
   "outputs": [],
   "source": [
    "#Group by ingredient and sum the sales (quantities)\n",
    "ingredient_sales_summary = ingredient_sales_df.groupby('ingredient').agg({'quantity': 'sum'}).reset_index()"
   ]
  },
  {
   "cell_type": "code",
   "execution_count": 151,
   "metadata": {},
   "outputs": [],
   "source": [
    "#Sort the ingredients by total sales\n",
    "top_ingredients = ingredient_sales_summary.sort_values(by='quantity', ascending=False)"
   ]
  },
  {
   "cell_type": "code",
   "execution_count": 152,
   "metadata": {},
   "outputs": [
    {
     "data": {
      "text/html": [
       "<div>\n",
       "<style scoped>\n",
       "    .dataframe tbody tr th:only-of-type {\n",
       "        vertical-align: middle;\n",
       "    }\n",
       "\n",
       "    .dataframe tbody tr th {\n",
       "        vertical-align: top;\n",
       "    }\n",
       "\n",
       "    .dataframe thead th {\n",
       "        text-align: right;\n",
       "    }\n",
       "</style>\n",
       "<table border=\"1\" class=\"dataframe\">\n",
       "  <thead>\n",
       "    <tr style=\"text-align: right;\">\n",
       "      <th></th>\n",
       "      <th>ingredient</th>\n",
       "      <th>quantity</th>\n",
       "    </tr>\n",
       "  </thead>\n",
       "  <tbody>\n",
       "    <tr>\n",
       "      <th>25</th>\n",
       "      <td>Garlic</td>\n",
       "      <td>27913</td>\n",
       "    </tr>\n",
       "    <tr>\n",
       "      <th>62</th>\n",
       "      <td>Tomatoes</td>\n",
       "      <td>27052</td>\n",
       "    </tr>\n",
       "    <tr>\n",
       "      <th>51</th>\n",
       "      <td>Red Onions</td>\n",
       "      <td>19834</td>\n",
       "    </tr>\n",
       "    <tr>\n",
       "      <th>52</th>\n",
       "      <td>Red Peppers</td>\n",
       "      <td>16562</td>\n",
       "    </tr>\n",
       "    <tr>\n",
       "      <th>36</th>\n",
       "      <td>Mozzarella Cheese</td>\n",
       "      <td>10569</td>\n",
       "    </tr>\n",
       "    <tr>\n",
       "      <th>44</th>\n",
       "      <td>Pepperoni</td>\n",
       "      <td>10540</td>\n",
       "    </tr>\n",
       "    <tr>\n",
       "      <th>58</th>\n",
       "      <td>Spinach</td>\n",
       "      <td>10166</td>\n",
       "    </tr>\n",
       "    <tr>\n",
       "      <th>37</th>\n",
       "      <td>Mushrooms</td>\n",
       "      <td>9729</td>\n",
       "    </tr>\n",
       "    <tr>\n",
       "      <th>15</th>\n",
       "      <td>Chicken</td>\n",
       "      <td>8618</td>\n",
       "    </tr>\n",
       "    <tr>\n",
       "      <th>13</th>\n",
       "      <td>Capocollo</td>\n",
       "      <td>6692</td>\n",
       "    </tr>\n",
       "  </tbody>\n",
       "</table>\n",
       "</div>"
      ],
      "text/plain": [
       "           ingredient  quantity\n",
       "25             Garlic     27913\n",
       "62           Tomatoes     27052\n",
       "51         Red Onions     19834\n",
       "52        Red Peppers     16562\n",
       "36  Mozzarella Cheese     10569\n",
       "44          Pepperoni     10540\n",
       "58            Spinach     10166\n",
       "37          Mushrooms      9729\n",
       "15            Chicken      8618\n",
       "13          Capocollo      6692"
      ]
     },
     "metadata": {},
     "output_type": "display_data"
    }
   ],
   "source": [
    "#Display the top ingredients by sales\n",
    "display(top_ingredients.head(10))"
   ]
  },
  {
   "cell_type": "code",
   "execution_count": 153,
   "metadata": {},
   "outputs": [],
   "source": [
    "#Remove common ingredients that go in pizza like Tomatoes, Garlic and Mozzarella Cheese"
   ]
  },
  {
   "cell_type": "code",
   "execution_count": 154,
   "metadata": {},
   "outputs": [],
   "source": [
    "#Initialize a list to collect all the ingredients sales\n",
    "ingredient_sales = []"
   ]
  },
  {
   "cell_type": "code",
   "execution_count": 155,
   "metadata": {},
   "outputs": [],
   "source": [
    "#List of the ingredients being excluded\n",
    "excluded_ingredients = ['Garlic', 'Mozzarella Cheese', 'Tomatoes']"
   ]
  },
  {
   "cell_type": "code",
   "execution_count": 156,
   "metadata": {},
   "outputs": [],
   "source": [
    "#Iterate over each pizza order and break down the ingredients\n",
    "for index, row in pizza_sales.iterrows():\n",
    "    for ingredient in row['ingredients']:\n",
    "        ingredient = ingredient.strip()\n",
    "        if ingredient not in excluded_ingredients:\n",
    "            ingredient_sales.append({\n",
    "                'ingredient': ingredient,\n",
    "                'quantity' : row ['quantity']\n",
    "            })"
   ]
  },
  {
   "cell_type": "code",
   "execution_count": 157,
   "metadata": {},
   "outputs": [],
   "source": [
    "#Convert the list of ingredients sales to a Dataframe\n",
    "ingredient_sales_df = pd.DataFrame(ingredient_sales)"
   ]
  },
  {
   "cell_type": "code",
   "execution_count": 158,
   "metadata": {},
   "outputs": [],
   "source": [
    "#Group by ingredient and sum the sales (quantities)\n",
    "ingredient_sales_summary = ingredient_sales_df.groupby('ingredient').agg({'quantity': 'sum'}).reset_index()"
   ]
  },
  {
   "cell_type": "code",
   "execution_count": 159,
   "metadata": {},
   "outputs": [],
   "source": [
    "#Sort the ingredients by total sales\n",
    "top_ingredients = ingredient_sales_summary.sort_values(by='quantity', ascending=False)"
   ]
  },
  {
   "cell_type": "code",
   "execution_count": 160,
   "metadata": {},
   "outputs": [
    {
     "name": "stdout",
     "output_type": "stream",
     "text": [
      "            ingredient  quantity\n",
      "49          Red Onions     19834\n",
      "50         Red Peppers     16562\n",
      "42           Pepperoni     10540\n",
      "56             Spinach     10166\n",
      "35           Mushrooms      9729\n",
      "..                 ...       ...\n",
      "46          Prosciutto       490\n",
      "40               Pears       490\n",
      "14  Caramelized Onions       490\n",
      "59               Thyme       490\n",
      "11   Brie Carre Cheese       490\n",
      "\n",
      "[62 rows x 2 columns]\n"
     ]
    }
   ],
   "source": [
    "#Displa the top ingredients by sales\n",
    "print(top_ingredients)"
   ]
  },
  {
   "cell_type": "code",
   "execution_count": 161,
   "metadata": {},
   "outputs": [],
   "source": [
    "#Export dataset for visualization\n",
    "#top_ingredients.to_csv('top_ingredients.csv', index=False)"
   ]
  },
  {
   "cell_type": "markdown",
   "metadata": {},
   "source": [
    "Top selling ingredients go together ^^^^^^"
   ]
  },
  {
   "cell_type": "markdown",
   "metadata": {},
   "source": [
    "### Find the best selling size from all the orders"
   ]
  },
  {
   "cell_type": "code",
   "execution_count": 162,
   "metadata": {},
   "outputs": [],
   "source": [
    "#Merge the order_details with pizzas to get size information\n",
    "pizza_sales_by_size = pd.merge(order_details, pizzas, on='pizza_id')"
   ]
  },
  {
   "cell_type": "code",
   "execution_count": 163,
   "metadata": {},
   "outputs": [],
   "source": [
    "#Group by pizza size and sum the total number of pizzas sold\n",
    "size_sales_summary = pizza_sales_by_size.groupby('size').agg({'quantity':'sum'}).reset_index()"
   ]
  },
  {
   "cell_type": "code",
   "execution_count": 164,
   "metadata": {},
   "outputs": [],
   "source": [
    "#Sort the results by quantity in descending order to find the size with the most sales\n",
    "top_size_sales = size_sales_summary.sort_values(by='quantity', ascending=False)"
   ]
  },
  {
   "cell_type": "code",
   "execution_count": 165,
   "metadata": {},
   "outputs": [
    {
     "name": "stdout",
     "output_type": "stream",
     "text": [
      "  size  quantity\n",
      "0    L     18956\n",
      "1    M     15635\n",
      "2    S     14403\n",
      "3   XL       552\n",
      "4  XXL        28\n"
     ]
    }
   ],
   "source": [
    "#Display the pizza size with the most sales\n",
    "print(top_size_sales)"
   ]
  },
  {
   "cell_type": "code",
   "execution_count": 166,
   "metadata": {},
   "outputs": [],
   "source": [
    "#Export dataset for visualization\n",
    "#top_size_sales.to_csv('top_size_sales.csv', index=False)"
   ]
  },
  {
   "cell_type": "markdown",
   "metadata": {},
   "source": [
    "### Find the pizza price without ingredients"
   ]
  },
  {
   "cell_type": "code",
   "execution_count": 167,
   "metadata": {},
   "outputs": [
    {
     "name": "stdout",
     "output_type": "stream",
     "text": [
      "Average price by pizza size:\n",
      "  size      price\n",
      "0    L  20.022581\n",
      "1    M  15.991935\n",
      "2    S  12.512500\n",
      "3   XL  25.500000\n",
      "4  XXL  35.950000\n"
     ]
    }
   ],
   "source": [
    "#Group by pizza size and calculate the average price for each size\n",
    "average_price_by_size = pizzas.groupby('size')['price'].mean().reset_index()\n",
    "print(\"Average price by pizza size:\")\n",
    "print(average_price_by_size)"
   ]
  },
  {
   "cell_type": "markdown",
   "metadata": {},
   "source": [
    "### Number of ingredients"
   ]
  },
  {
   "cell_type": "code",
   "execution_count": 168,
   "metadata": {},
   "outputs": [],
   "source": [
    "#Add a column for the number of ingredients in each pizza\n",
    "pizza_types['num_ingredients'] = pizza_types['ingredients'].apply(lambda x: len(x.split(',')))"
   ]
  },
  {
   "cell_type": "code",
   "execution_count": 169,
   "metadata": {},
   "outputs": [],
   "source": [
    "#Merge this with pizza data to get the price and size\n",
    "pizza_complexity = pd.merge(pizzas, pizza_types[['pizza_type_id', 'num_ingredients']], on='pizza_type_id')"
   ]
  },
  {
   "cell_type": "code",
   "execution_count": 170,
   "metadata": {},
   "outputs": [],
   "source": [
    "#Group by size and number of ingredients to calculate the average price\n",
    "average_price_by_complexity = pizza_complexity.groupby(['size', 'num_ingredients'])['price'].mean().reset_index()"
   ]
  },
  {
   "cell_type": "code",
   "execution_count": 171,
   "metadata": {},
   "outputs": [
    {
     "name": "stdout",
     "output_type": "stream",
     "text": [
      "Average price by pizza size and complexity (number of ingredients):\n",
      "   size  num_ingredients      price\n",
      "0     L                2  15.250000\n",
      "1     L                3  18.250000\n",
      "2     L                4  20.500000\n",
      "3     L                5  20.135714\n",
      "4     L                6  20.437500\n",
      "5     L                7  20.666667\n",
      "6     L                8  20.500000\n",
      "7     M                2  12.500000\n",
      "8     M                3  14.750000\n",
      "9     M                4  16.000000\n",
      "10    M                5  16.000000\n",
      "11    M                6  16.354167\n",
      "12    M                7  16.500000\n",
      "13    M                8  16.312500\n",
      "14    S                2   9.750000\n",
      "15    S                3  11.333333\n",
      "16    S                4  12.000000\n",
      "17    S                5  12.142857\n",
      "18    S                6  13.300000\n",
      "19    S                7  12.500000\n",
      "20    S                8  12.312500\n",
      "21   XL                6  25.500000\n",
      "22  XXL                6  35.950000\n"
     ]
    }
   ],
   "source": [
    "#Display the dataset\n",
    "print(\"Average price by pizza size and complexity (number of ingredients):\")\n",
    "print(average_price_by_complexity)"
   ]
  },
  {
   "cell_type": "code",
   "execution_count": 172,
   "metadata": {},
   "outputs": [],
   "source": [
    "#Export dataset for visualization\n",
    "#average_price_by_complexity.to_csv('average_price_by_complexity.csv', index=False)"
   ]
  },
  {
   "cell_type": "code",
   "execution_count": 173,
   "metadata": {},
   "outputs": [
    {
     "name": "stdout",
     "output_type": "stream",
     "text": [
      "Estimated price for the new pizza with complexity level 8: $17.94\n"
     ]
    }
   ],
   "source": [
    "# Assuming a premium ingredient count for the new pizza (let’s say it has 8 ingredients)\n",
    "new_pizza_complexity = 8  # Adjust this as per your new pizza's ingredients\n",
    "\n",
    "# Filter to get prices for pizzas with similar complexity and size, then add a premium adjustment\n",
    "# Example premium adjustment of 10%\n",
    "new_pizza_price_estimate = average_price_by_complexity[\n",
    "    (average_price_by_complexity['num_ingredients'] == new_pizza_complexity) & \n",
    "    (average_price_by_complexity['size'] == 'M')  # Adjust size as per the new pizza's planned size\n",
    "]['price'].values[0] * 1.1\n",
    "\n",
    "print(f\"Estimated price for the new pizza with complexity level {new_pizza_complexity}: ${new_pizza_price_estimate:.2f}\")"
   ]
  }
 ],
 "metadata": {
  "kernelspec": {
   "display_name": "base",
   "language": "python",
   "name": "python3"
  },
  "language_info": {
   "codemirror_mode": {
    "name": "ipython",
    "version": 3
   },
   "file_extension": ".py",
   "mimetype": "text/x-python",
   "name": "python",
   "nbconvert_exporter": "python",
   "pygments_lexer": "ipython3",
   "version": "3.12.4"
  }
 },
 "nbformat": 4,
 "nbformat_minor": 2
}
