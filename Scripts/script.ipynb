{
 "cells": [
  {
   "cell_type": "markdown",
   "metadata": {},
   "source": [
    "### Mark's Pizza Ad"
   ]
  },
  {
   "cell_type": "code",
   "execution_count": 1,
   "metadata": {},
   "outputs": [],
   "source": [
    "# import all libraries\n",
    "import pandas as pd\n",
    "import numpy as np\n",
    "import matplotlib.pyplot as plt\n",
    "import seaborn as sns\n",
    "import os"
   ]
  },
  {
   "cell_type": "code",
   "execution_count": 2,
   "metadata": {},
   "outputs": [],
   "source": [
    "#Assign them to a variable for easy access if neccesary\n",
    "order_details = 'C:/Users/valde/Desktop/Tripleten/Marks_pizza_ad/marks-pizza-ad/Datasets/order_details.csv'\n",
    "orders = 'C:/Users/valde/Desktop/Tripleten/Marks_pizza_ad/marks-pizza-ad/Datasets/orders.csv'\n",
    "pizza_types = 'C:/Users/valde/Desktop/Tripleten/Marks_pizza_ad/marks-pizza-ad/Datasets/pizza_types.csv'\n",
    "pizzas = 'C:/Users/valde/Desktop/Tripleten/Marks_pizza_ad/marks-pizza-ad/Datasets/pizzas.csv'"
   ]
  },
  {
   "cell_type": "code",
   "execution_count": 3,
   "metadata": {},
   "outputs": [],
   "source": [
    "#Read all the libraries\n",
    "order_details = pd.read_csv(order_details, encoding='ISO-8859-1')\n",
    "orders = pd.read_csv(orders, encoding='ISO-8859-1')\n",
    "pizza_types = pd.read_csv(pizza_types, encoding='ISO-8859-1')\n",
    "pizzas = pd.read_csv(pizzas, encoding='ISO-8859-1')"
   ]
  },
  {
   "cell_type": "code",
   "execution_count": 4,
   "metadata": {},
   "outputs": [
    {
     "name": "stdout",
     "output_type": "stream",
     "text": [
      "   order_details_id  order_id       pizza_id  quantity\n",
      "0                 1         1     hawaiian_m         1\n",
      "1                 2         2  classic_dlx_m         1\n",
      "2                 3         2  five_cheese_l         1\n",
      "3                 4         2    ital_supr_l         1\n",
      "4                 5         2     mexicana_m         1\n"
     ]
    }
   ],
   "source": [
    "print(order_details.head())"
   ]
  },
  {
   "cell_type": "markdown",
   "metadata": {},
   "source": [
    "#The following code will clean the \"orders_details\""
   ]
  },
  {
   "cell_type": "code",
   "execution_count": 5,
   "metadata": {},
   "outputs": [
    {
     "name": "stdout",
     "output_type": "stream",
     "text": [
      "<class 'pandas.core.frame.DataFrame'>\n",
      "RangeIndex: 48620 entries, 0 to 48619\n",
      "Data columns (total 4 columns):\n",
      " #   Column            Non-Null Count  Dtype \n",
      "---  ------            --------------  ----- \n",
      " 0   order_details_id  48620 non-null  int64 \n",
      " 1   order_id          48620 non-null  int64 \n",
      " 2   pizza_id          48620 non-null  object\n",
      " 3   quantity          48620 non-null  int64 \n",
      "dtypes: int64(3), object(1)\n",
      "memory usage: 1.5+ MB\n"
     ]
    }
   ],
   "source": [
    "#Print the information for the dataset\n",
    "order_details.info()"
   ]
  },
  {
   "cell_type": "markdown",
   "metadata": {},
   "source": [
    "It seems like pizzas that belong together have the same ID"
   ]
  }
 ],
 "metadata": {
  "kernelspec": {
   "display_name": "Python 3",
   "language": "python",
   "name": "python3"
  },
  "language_info": {
   "codemirror_mode": {
    "name": "ipython",
    "version": 3
   },
   "file_extension": ".py",
   "mimetype": "text/x-python",
   "name": "python",
   "nbconvert_exporter": "python",
   "pygments_lexer": "ipython3",
   "version": "3.12.4"
  }
 },
 "nbformat": 4,
 "nbformat_minor": 2
}
